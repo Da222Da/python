{
 "cells": [
  {
   "cell_type": "markdown",
   "metadata": {},
   "source": [
    "# 如何安装 langchain? \n",
    "\n",
    "想要安装 langchain, 运行如下指令即可：\n",
    "\n",
    "```sh\n",
    "pip install -i https://mirrors.cloud.tencent.com/pypi/simple langchain # 国内，建议使用腾讯镜像\n",
    "pip freeze >> requirements.txt # 更新 requirements.txt  文件\n",
    "```"
   ]
  },
  {
   "cell_type": "markdown",
   "metadata": {},
   "source": []
  }
 ],
 "metadata": {
  "language_info": {
   "name": "python"
  }
 },
 "nbformat": 4,
 "nbformat_minor": 2
}
