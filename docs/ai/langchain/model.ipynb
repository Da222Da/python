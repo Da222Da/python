{
 "cells": [
  {
   "cell_type": "markdown",
   "metadata": {},
   "source": [
    "# 在 langchain 中，如何使用 AI 模型呢？\n",
    "\n",
    "在 langchain 中，使用 AI 模型的方式有两种：\n",
    "\n",
    "- 方式1：在本地运行一个 llm 模型，但是，这需要消耗大量的 GPU 资源。\n",
    "- 方式2：使用第三方的模型 API，例如：openai、文心一言、讯飞火星等。"
   ]
  },
  {
   "cell_type": "markdown",
   "metadata": {},
   "source": []
  }
 ],
 "metadata": {
  "language_info": {
   "name": "python"
  }
 },
 "nbformat": 4,
 "nbformat_minor": 2
}
