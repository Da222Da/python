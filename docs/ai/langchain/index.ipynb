{
 "cells": [
  {
   "cell_type": "markdown",
   "metadata": {},
   "source": [
    "# Langchain\n",
    "\n",
    "要点如何：\n",
    "\n",
    "- [如何安装 langchain?](./install.ipynb)\n",
    "- [在 langchain 中，如何使用 AI 模型呢？](./model.ipynb)\n",
    "- llm 模块\n",
    "    - [如何使用 llm 模块生成文本？](./llm.ipynb)"
   ]
  },
  {
   "cell_type": "markdown",
   "metadata": {},
   "source": []
  }
 ],
 "metadata": {
  "language_info": {
   "name": "python"
  }
 },
 "nbformat": 4,
 "nbformat_minor": 2
}
