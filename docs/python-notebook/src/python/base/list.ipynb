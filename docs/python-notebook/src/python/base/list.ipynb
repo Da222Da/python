{
 "cells": [
  {
   "cell_type": "markdown",
   "metadata": {},
   "source": [
    "### 什么是列表 List?\n",
    "\n",
    "在Python中，列表是一种有序的集合，可以包含多个元素。列表的元素可以是数字、字符串、布尔值、列表或元组等。列表用方括号[]包围，元素之间用逗号分隔。\n",
    "\n",
    "除此之外，列表的常见操作如下：\n",
    "\n",
    "- 定义\n",
    "- 访问列表元素\n",
    "- 解包赋值\n",
    "- 列表拼接\n",
    "- 列表切片\n",
    "- 列表切片\n",
    "- 迭代列表"
   ]
  },
  {
   "cell_type": "code",
   "execution_count": 1,
   "metadata": {},
   "outputs": [
    {
     "name": "stdout",
     "output_type": "stream",
     "text": [
      "1 2 3\n",
      "Unpack: 1 2 3\n",
      "Concat: [1, 2, 3, 4, 5, 6]\n",
      "Slice: [1, 2]\n",
      "Slice: [2, 3]\n",
      "Slice: [1, 2]\n",
      "Length: 3\n",
      "Iterate:  1\n",
      "Iterate:  2\n",
      "Iterate:  3\n"
     ]
    }
   ],
   "source": [
    "# 列表代码示例：\n",
    "\n",
    "# 定义 && 索引访问\n",
    "arr = [1, 2, 3] \n",
    "print(arr[0], arr[1], arr[2])\n",
    "\n",
    "# 解包赋值\n",
    "a,b,c = arr\n",
    "print(\"Unpack:\",a, b, c)\n",
    "\n",
    "# 列表拼接\n",
    "print(\"Concat:\", [1, 2, 3] + [4, 5, 6])\n",
    "\n",
    "# 列表切片 Slice\n",
    "print(\"Slice:\", arr[0:2]) # 从 0 到 2（不包括）的切片\n",
    "print(\"Slice:\", arr[1:]) # 从 1 到 \"最后一位\"\n",
    "print(\"Slice:\", arr[0:-1]) # 从 1 到 \"倒数第 1 位\"\n",
    "\n",
    "# 计算列表长度\n",
    "print(\"Length:\", len(arr))\n",
    "\n",
    "# 迭代列表 Iterate\n",
    "for item in arr:\n",
    "    print(\"Iterate: \", item)"
   ]
  }
 ],
 "metadata": {
  "kernelspec": {
   "display_name": "Python 3.11.4 64-bit",
   "language": "python",
   "name": "python3"
  },
  "language_info": {
   "codemirror_mode": {
    "name": "ipython",
    "version": 3
   },
   "file_extension": ".py",
   "mimetype": "text/x-python",
   "name": "python",
   "nbconvert_exporter": "python",
   "pygments_lexer": "ipython3",
   "version": "3.11.4"
  },
  "orig_nbformat": 4,
  "vscode": {
   "interpreter": {
    "hash": "ff4b1fca65a764b45acb559e482afe389d289dd599b9f8c5fd12ff5c2ea46a65"
   }
  }
 },
 "nbformat": 4,
 "nbformat_minor": 2
}
