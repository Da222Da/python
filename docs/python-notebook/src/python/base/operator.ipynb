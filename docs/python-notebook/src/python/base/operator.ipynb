{
 "cells": [
  {
   "cell_type": "markdown",
   "id": "c5805a17-3e1d-4ba3-86cd-30b9e6445dd3",
   "metadata": {},
   "source": [
    "### 什么是操作符\n",
    "\n",
    "操作符（Operator）是用于描述程序中某种操作过程的符号。在 Python 中，运算符包括：\n",
    "\n",
    "1. 赋值运算符：用于将一个值分配给一个变量。例如：x = 5\n",
    "2. 比较运算符：用于比较两个值是否相等或是否满足特定条件。例如：x == 5（等于），x < 5（小于）\n",
    "3. 算术运算符：用于执行基本数学操作`+ - * / % **`。\n",
    "4. 逻辑运算符：用于组合多个条件，并返回一个布尔值。例如：and（与），or（或），not（非）\n",
    "5. 成员运算符：用于检查一个值是否属于另一个集合。例如：x in y（在），x not in y（不在）\n",
    "6. 身份运算符：用于比较两个对象的标识。例如：x is y（是），x is not y（不是）\n",
    "\n",
    "> 注意！运算符之间是存在优先级关系的。"
   ]
  },
  {
   "cell_type": "code",
   "execution_count": null,
   "id": "44bf9058",
   "metadata": {},
   "outputs": [],
   "source": [
    "# 算术运算符示例\n",
    "\n",
    "print(\"算术运算符 -- 加法：\", 1+1)\n",
    "print(\"算术运算符 -- 减法：\", 1-1)\n",
    "print(\"算术运算符 -- 乘法：\", 2*2)\n",
    "print(\"算术运算符 -- 除法：\", 4/2)\n",
    "print(\"算术运算符 -- 取余数：\", 13%5, 1.75%1) # 2 * 5 + 3 \n",
    "print(\"算术运算符 -- 平方：\", 4 ** 2)"
   ]
  }
 ],
 "metadata": {
  "kernelspec": {
   "display_name": "Python 3.11.4 64-bit",
   "language": "python",
   "name": "python3"
  },
  "language_info": {
   "codemirror_mode": {
    "name": "ipython",
    "version": 3
   },
   "file_extension": ".py",
   "mimetype": "text/x-python",
   "name": "python",
   "nbconvert_exporter": "python",
   "pygments_lexer": "ipython3",
   "version": "3.11.4"
  },
  "vscode": {
   "interpreter": {
    "hash": "ff4b1fca65a764b45acb559e482afe389d289dd599b9f8c5fd12ff5c2ea46a65"
   }
  }
 },
 "nbformat": 4,
 "nbformat_minor": 5
}
