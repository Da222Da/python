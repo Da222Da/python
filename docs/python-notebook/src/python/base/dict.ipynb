{
 "cells": [
  {
   "cell_type": "markdown",
   "metadata": {},
   "source": [
    "### 什么是字典?\n",
    "\n",
    "在Python中，字典是一种**无序的键值对集合**。键和值用冒号:分隔，键必须是唯一的，但值可以重复。\n",
    "\n",
    "您可以使用`大括号{}`或`dict()`函数创建字典。除此之外，你应该了解字典的如下操作：\n",
    "- 创建一个字典\n",
    "- 访问字典中的值 - 使用键。"
   ]
  },
  {
   "cell_type": "code",
   "execution_count": 1,
   "metadata": {},
   "outputs": [
    {
     "name": "stdout",
     "output_type": "stream",
     "text": [
      "{'name': '旺财', 'age': 3}\n"
     ]
    }
   ],
   "source": [
    "### 创建一个字典\n",
    "dog = {\n",
    "    \"name\": \"旺财\",\n",
    "    \"age\": 3,\n",
    "}\n",
    "print(dog)"
   ]
  },
  {
   "cell_type": "code",
   "execution_count": 2,
   "metadata": {},
   "outputs": [
    {
     "data": {
      "text/plain": [
       "'旺财'"
      ]
     },
     "execution_count": 2,
     "metadata": {},
     "output_type": "execute_result"
    }
   ],
   "source": [
    "# 访问字典中的值 - 使用键。\n",
    "dog[\"name\"]"
   ]
  }
 ],
 "metadata": {
  "kernelspec": {
   "display_name": "Python 3.11.4 64-bit",
   "language": "python",
   "name": "python3"
  },
  "language_info": {
   "codemirror_mode": {
    "name": "ipython",
    "version": 3
   },
   "file_extension": ".py",
   "mimetype": "text/x-python",
   "name": "python",
   "nbconvert_exporter": "python",
   "pygments_lexer": "ipython3",
   "version": "3.11.4"
  },
  "orig_nbformat": 4,
  "vscode": {
   "interpreter": {
    "hash": "ff4b1fca65a764b45acb559e482afe389d289dd599b9f8c5fd12ff5c2ea46a65"
   }
  }
 },
 "nbformat": 4,
 "nbformat_minor": 2
}
