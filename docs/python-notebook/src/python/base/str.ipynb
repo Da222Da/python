{
 "cells": [
  {
   "cell_type": "markdown",
   "metadata": {},
   "source": [
    "### 什么是字符串?\n",
    "\n",
    "在Python中，字符串(str) 是一种不可变的字符序列。主要内容如下：\n",
    "\n",
    "- 如何表达字符串？\n",
    "- 如何表示变量字符串?"
   ]
  },
  {
   "cell_type": "code",
   "execution_count": 7,
   "metadata": {},
   "outputs": [
    {
     "name": "stdout",
     "output_type": "stream",
     "text": [
      "hello world\n",
      "\n",
      "      《早发白帝城》\n",
      "朝辞白帝彩云间，千里江陵一日还。\n",
      "两岸猿声啼不住，轻舟已过万重山。\n",
      "\n",
      "普通字符串： hello\tworld\n",
      "原始字符串： hello\\tworld\n"
     ]
    }
   ],
   "source": [
    "# 如何表达字符串？\n",
    "\n",
    "# 1.1 普通字符串: 用单引号(')或双引号(\")括起来的字符串。\n",
    "print(\"hello world\")\n",
    "\n",
    "# 1.2 长字符串：用三个单引号（'''）或三个双引号（＂＂＂）括起来。\n",
    "print('''\n",
    "      《早发白帝城》\n",
    "朝辞白帝彩云间，千里江陵一日还。\n",
    "两岸猿声啼不住，轻舟已过万重山。\n",
    "''')\n",
    "\n",
    "# 1.3 原始字符串（raw string）:原始字符串中的特殊字符不需要被转义。\n",
    "print(\"普通字符串：\", \"hello\\tworld\")\n",
    "print(\"原始字符串：\", r\"hello\\tworld\")"
   ]
  },
  {
   "cell_type": "code",
   "execution_count": 8,
   "metadata": {},
   "outputs": [
    {
     "name": "stdout",
     "output_type": "stream",
     "text": [
      "My name is Alice and I'm 25 years old.\n",
      "My name is Alice and I'm 25 years old.\n"
     ]
    }
   ],
   "source": [
    "# 如何表示变量字符串?\n",
    "\n",
    "name = \"Alice\"\n",
    "age = 25\n",
    "\n",
    "# 使用format()方法\n",
    "print(\"My name is {} and I'm {} years old.\".format(name, age))\n",
    "\n",
    "# 使用f-string\n",
    "print(f\"My name is {name} and I'm {age} years old.\") "
   ]
  }
 ],
 "metadata": {
  "kernelspec": {
   "display_name": "Python 3.11.4 64-bit",
   "language": "python",
   "name": "python3"
  },
  "language_info": {
   "codemirror_mode": {
    "name": "ipython",
    "version": 3
   },
   "file_extension": ".py",
   "mimetype": "text/x-python",
   "name": "python",
   "nbconvert_exporter": "python",
   "pygments_lexer": "ipython3",
   "version": "3.11.4"
  },
  "orig_nbformat": 4,
  "vscode": {
   "interpreter": {
    "hash": "ff4b1fca65a764b45acb559e482afe389d289dd599b9f8c5fd12ff5c2ea46a65"
   }
  }
 },
 "nbformat": 4,
 "nbformat_minor": 2
}
