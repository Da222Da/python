{
 "cells": [
  {
   "cell_type": "markdown",
   "metadata": {},
   "source": [
    "# 什么是游戏？\n",
    "\n",
    "游戏，就是让图形（和声音）在计算机上运行。\n",
    "\n",
    "为了让事情变得更简单，这里，我们使用一个名为 [pygame](https://www.pygame.org/) 的第三方库。要点如下：\n",
    "\n",
    "1. 创建游戏窗口？\n",
    "2. 画一个圆形？"
   ]
  },
  {
   "cell_type": "code",
   "execution_count": 2,
   "metadata": {},
   "outputs": [],
   "source": [
    "# 创建游戏窗口\n",
    "\n",
    "import pygame\n",
    "\n",
    "# 初始化Pygame\n",
    "pygame.init()\n",
    "\n",
    "# 创建屏幕对象\n",
    "screen_width = 800\n",
    "screen_height = 600\n",
    "screen = pygame.display.set_mode((screen_width, screen_height))\n",
    "\n",
    "# 游戏主循环\n",
    "# 游戏本身不做任何事情，只是与玩家交互。所以 Pygame 有一个事件循环（event loop）不断检查用户在做什么，比如按键、移动鼠标或关闭窗口。Pygame 程序需要有个事件循环一直运行。\n",
    "# 如果没有下面的这段代码，你的游戏窗口可能无法关闭喔！\n",
    "running = True\n",
    "while running:\n",
    "    for event in pygame.event.get():\n",
    "        if event.type == pygame.QUIT:\n",
    "            running = False\n",
    "\n",
    "# 退出Pygame\n",
    "pygame.quit()\n"
   ]
  },
  {
   "cell_type": "code",
   "execution_count": 5,
   "metadata": {},
   "outputs": [],
   "source": [
    "# 画一个圆形\n",
    "\n",
    "import pygame\n",
    "\n",
    "pygame.init()\n",
    "\n",
    "# 屏幕对象\n",
    "screen_width = 800\n",
    "screen_height = 600\n",
    "screen = pygame.display.set_mode((screen_width, screen_height))\n",
    "screen.fill([255, 255, 255])\n",
    "\n",
    "# 定义圆形的属性\n",
    "circle_center = (screen_width // 2, screen_height // 2)  # 圆心坐标\n",
    "circle_radius = 50  # 圆的半径\n",
    "circle_color = (255, 0, 0)  # 圆的颜色\n",
    "\n",
    "# 在屏幕上画一个圆形\n",
    "pygame.draw.circle(screen, circle_color, circle_center, circle_radius)\n",
    "\n",
    "# 刷新屏幕\n",
    "# pygame 不是每一个小小的修改时都更新显示，而很多次修改后，使用 flip() 直接切换到下一屏。\n",
    "pygame.display.flip()\n",
    "\n",
    "# 游戏主循环\n",
    "running = True\n",
    "while running:\n",
    "    for event in pygame.event.get():\n",
    "        if event.type == pygame.QUIT:\n",
    "            running = False\n",
    "\n",
    "# 退出Pygame\n",
    "pygame.quit()"
   ]
  }
 ],
 "metadata": {
  "kernelspec": {
   "display_name": "Python 3 (ipykernel)",
   "language": "python",
   "name": "python3"
  },
  "language_info": {
   "codemirror_mode": {
    "name": "ipython",
    "version": 3
   },
   "file_extension": ".py",
   "mimetype": "text/x-python",
   "name": "python",
   "nbconvert_exporter": "python",
   "pygments_lexer": "ipython3",
   "version": "3.11.4"
  }
 },
 "nbformat": 4,
 "nbformat_minor": 4
}
