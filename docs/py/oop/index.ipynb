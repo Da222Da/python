{
 "cells": [
  {
   "cell_type": "markdown",
   "metadata": {},
   "source": [
    "# 面向对象编程\n",
    "\n",
    "面向对象编程`Object-Oriented Programming`，直译就是“以对象为中心进行编程”，是一种能让软件开发变得更加轻松的编程范式。要点如下：\n",
    "\n",
    "- 基本概念：[类与实例](./concept/class.ipynb)、[继承](./concept/extend.ipynb)、[多态](./concept/polymorphism.ipynb)"
   ]
  }
 ],
 "metadata": {
  "kernelspec": {
   "display_name": "Python 3 (ipykernel)",
   "language": "python",
   "name": "python3"
  },
  "language_info": {
   "codemirror_mode": {
    "name": "ipython",
    "version": 3
   },
   "file_extension": ".py",
   "mimetype": "text/x-python",
   "name": "python",
   "nbconvert_exporter": "python",
   "pygments_lexer": "ipython3",
   "version": "3.11.4"
  }
 },
 "nbformat": 4,
 "nbformat_minor": 4
}
