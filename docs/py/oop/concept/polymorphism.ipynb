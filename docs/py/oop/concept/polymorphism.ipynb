{
 "cells": [
  {
   "cell_type": "code",
   "execution_count": 8,
   "metadata": {},
   "outputs": [
    {
     "name": "stdout",
     "output_type": "stream",
     "text": [
      "汤姆让他的宠物狗发出叫的指令时,得到了“汪汪”地响应。\n",
      "汤姆让他的宠物猫发出叫的指令时,得到了“喵喵”地响应。\n"
     ]
    }
   ],
   "source": [
    "\"\"\"\n",
    "@Title: 理解多态\n",
    "\n",
    "Q1: 什么是多态 （polymorphism）？\n",
    "A1: 多态是让对象在不同场景下，会表现出不同的行为。例如，汤姆向他的宠物发出叫的指令时，如果是宠物狗就会“汪汪”、如果是宠物猫就会“喵喵”。\n",
    "\n",
    "Q2: 如何实现多态呢？\n",
    "A2: 多态性的实现依赖于继承和方法重写。\n",
    "\n",
    "\"\"\"\n",
    "# 代码示例：汤姆和他的宠物\n",
    "\n",
    "class Pet:\n",
    "    def __init__(self, name):\n",
    "        self.name = name\n",
    "    def cry(self):\n",
    "        pass\n",
    "\n",
    "class Dog(Pet):\n",
    "    def cry(self):\n",
    "        return \"汪汪\"\n",
    "\n",
    "class Cat(Pet):\n",
    "    def cry(self):\n",
    "        return \"喵喵\"\n",
    "\n",
    "class Trainer:\n",
    "    def __init__(self, name):\n",
    "        self.name = name\n",
    "        \n",
    "    def execute(self, pet):\n",
    "        print(f\"{self.name}让他的宠物{pet.name}发出叫的指令时,得到了“{pet.cry()}”地响应。\")\n",
    "\n",
    "# 测试多态\n",
    "trainer = Trainer(\"汤姆\")\n",
    "pets = [Dog('狗'), Cat('猫')]\n",
    "\n",
    "for pet in pets:\n",
    "    trainer.execute(pet)"
   ]
  }
 ],
 "metadata": {
  "kernelspec": {
   "display_name": "Python 3 (ipykernel)",
   "language": "python",
   "name": "python3"
  },
  "language_info": {
   "codemirror_mode": {
    "name": "ipython",
    "version": 3
   },
   "file_extension": ".py",
   "mimetype": "text/x-python",
   "name": "python",
   "nbconvert_exporter": "python",
   "pygments_lexer": "ipython3",
   "version": "3.11.4"
  }
 },
 "nbformat": 4,
 "nbformat_minor": 4
}
