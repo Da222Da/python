{
 "cells": [
  {
   "cell_type": "code",
   "execution_count": 10,
   "metadata": {},
   "outputs": [
    {
     "name": "stdout",
     "output_type": "stream",
     "text": [
      "奔跑\n",
      "飞行\n"
     ]
    }
   ],
   "source": [
    "\"\"\"\n",
    "@Title: 理解继承\n",
    "\n",
    "Q1: 什么是继承 （extend）？\n",
    "A1: 继承就是对类的共同点和不同点进行分类、整理。例如，动物的共同点有行动、叫声等，但不同的是，小鸟靠飞、小狗靠走。\n",
    "\n",
    "Q2: 继承有什么好处呢？\n",
    "A2: 通过继承，子类可以获得父类的特性，包括属性和方法，而无需重新编写相同的代码。这样可以减少重复的代码，并且可以在父类的基础上构建更具体的子类。\n",
    "\"\"\"\n",
    "\n",
    "class Animal:\n",
    "    def __init__(self, name):\n",
    "        self.name = name\n",
    "    def move(self):\n",
    "        pass\n",
    "\n",
    "class Dog(Pet):\n",
    "    def move(self):\n",
    "        return \"奔跑\"\n",
    "\n",
    "class Bird(Pet):\n",
    "    def move(self):\n",
    "        return \"飞行\"\n",
    "\n",
    "\n",
    "# 测试多态\n",
    "animals = [Dog('小狗'), Bird('小鸟')]\n",
    "\n",
    "for animal in animals:\n",
    "    print(animal.move())"
   ]
  }
 ],
 "metadata": {
  "kernelspec": {
   "display_name": "Python 3 (ipykernel)",
   "language": "python",
   "name": "python3"
  },
  "language_info": {
   "codemirror_mode": {
    "name": "ipython",
    "version": 3
   },
   "file_extension": ".py",
   "mimetype": "text/x-python",
   "name": "python",
   "nbconvert_exporter": "python",
   "pygments_lexer": "ipython3",
   "version": "3.11.4"
  }
 },
 "nbformat": 4,
 "nbformat_minor": 4
}
