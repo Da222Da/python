{
 "cells": [
  {
   "cell_type": "markdown",
   "metadata": {},
   "source": [
    "# 数据\n",
    "\n",
    "在计算机中，数据就是信息，例如“那条小狗叫旺财、1+1=2”。而计算机的本质就是对接收数据的输入、对数据进行处理转换、输出数据。\n",
    "\n",
    "那么，在 Python 中，我们是怎么样表示数据的呢？要点如下：\n",
    "\n",
    "- 数据类型\n",
    "    - 字符串\n",
    "    - 数字\n",
    "    - 布尔值\n",
    "- 数据集合\n",
    "    - 列表\n",
    "    - 字典"
   ]
  }
 ],
 "metadata": {
  "kernelspec": {
   "display_name": "Python 3 (ipykernel)",
   "language": "python",
   "name": "python3"
  },
  "language_info": {
   "codemirror_mode": {
    "name": "ipython",
    "version": 3
   },
   "file_extension": ".py",
   "mimetype": "text/x-python",
   "name": "python",
   "nbconvert_exporter": "python",
   "pygments_lexer": "ipython3",
   "version": "3.11.4"
  }
 },
 "nbformat": 4,
 "nbformat_minor": 4
}
