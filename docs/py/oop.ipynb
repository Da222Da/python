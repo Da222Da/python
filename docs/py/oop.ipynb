{
 "cells": [
  {
   "cell_type": "markdown",
   "metadata": {},
   "source": [
    "# 面向对象编程\n",
    "\n",
    "面向对象编程`Object-Oriented Programming`，直译就是“以对象为中心进行编程”，是一种能让软件开发变得更加轻松的编程范式。要点如下：\n",
    "\n",
    "- 理解类与实例？\n",
    "- 理解继承？\n",
    "- 理解多态？"
   ]
  },
  {
   "cell_type": "code",
   "execution_count": 1,
   "metadata": {},
   "outputs": [
    {
     "name": "stdout",
     "output_type": "stream",
     "text": [
      "斑点狗:'汪汪'\n",
      "柴犬:'汪汪'\n"
     ]
    }
   ],
   "source": [
    "\"\"\"\n",
    "@Title: 理解类与实例\n",
    "\n",
    "Q1: 什么是类 （class）？\n",
    "A1: 我们将一群具有相同特征的事物抽象出来，统称为一个类。例如，斑点狗、柴犬……都是狗这个类，它们都有“狗”这个特征，即“毛皮、尾巴、叫声”等。\n",
    "\n",
    "Q2: 什么是实例 （instance）？\n",
    "A2: 实例就是类的一个具体事物。例如，斑点狗、柴犬……都是狗这个类，它们都是实例。\n",
    "\n",
    "Q3: 类和实例有什么区别？\n",
    "A3: 类是抽象的，实例是具体的。\n",
    "\"\"\"\n",
    "\n",
    "class Dog:\n",
    "    def __init__(self, name):  # 构造函数（创建实例时执行）\n",
    "        self.name = name\n",
    "\n",
    "    def cry(self):  # 被命令时发出“汪”的叫声\n",
    "        return \"汪汪\"\n",
    "\n",
    "pochi = Dog(\"斑点狗\")\n",
    "taro = Dog(\"柴犬\")\n",
    "\n",
    "print(f\"{pochi.name}:'{pochi.cry()}'\")\n",
    "print(f\"{taro.name}:'{taro.cry()}'\")"
   ]
  },
  {
   "cell_type": "code",
   "execution_count": 10,
   "metadata": {},
   "outputs": [
    {
     "name": "stdout",
     "output_type": "stream",
     "text": [
      "奔跑\n",
      "飞行\n"
     ]
    }
   ],
   "source": [
    "\"\"\"\n",
    "@Title: 理解继承\n",
    "\n",
    "Q1: 什么是继承 （extend）？\n",
    "A1: 继承就是对类的共同点和不同点进行分类、整理。例如，动物的共同点有行动、叫声等，但不同的是，小鸟靠飞、小狗靠走。\n",
    "\n",
    "Q2: 继承有什么好处呢？\n",
    "A2: 通过继承，子类可以获得父类的特性，包括属性和方法，而无需重新编写相同的代码。这样可以减少重复的代码，并且可以在父类的基础上构建更具体的子类。\n",
    "\"\"\"\n",
    "\n",
    "class Animal:\n",
    "    def __init__(self, name):\n",
    "        self.name = name\n",
    "    def move(self):\n",
    "        pass\n",
    "\n",
    "class Dog(Pet):\n",
    "    def move(self):\n",
    "        return \"奔跑\"\n",
    "\n",
    "class Bird(Pet):\n",
    "    def move(self):\n",
    "        return \"飞行\"\n",
    "\n",
    "\n",
    "# 测试多态\n",
    "animals = [Dog('小狗'), Bird('小鸟')]\n",
    "\n",
    "for animal in animals:\n",
    "    print(animal.move())"
   ]
  },
  {
   "cell_type": "code",
   "execution_count": 8,
   "metadata": {},
   "outputs": [
    {
     "name": "stdout",
     "output_type": "stream",
     "text": [
      "汤姆让他的宠物狗发出叫的指令时,得到了“汪汪”地响应。\n",
      "汤姆让他的宠物猫发出叫的指令时,得到了“喵喵”地响应。\n"
     ]
    }
   ],
   "source": [
    "\"\"\"\n",
    "@Title: 理解多态\n",
    "\n",
    "Q1: 什么是多态 （polymorphism）？\n",
    "A1: 多态是让对象在不同场景下，会表现出不同的行为。例如，汤姆向他的宠物发出叫的指令时，如果是宠物狗就会“汪汪”、如果是宠物猫就会“喵喵”。\n",
    "\n",
    "Q2: 如何实现多态呢？\n",
    "A2: 多态性的实现依赖于继承和方法重写。\n",
    "\n",
    "\"\"\"\n",
    "# 代码示例：汤姆和他的宠物\n",
    "\n",
    "class Pet:\n",
    "    def __init__(self, name):\n",
    "        self.name = name\n",
    "    def cry(self):\n",
    "        pass\n",
    "\n",
    "class Dog(Pet):\n",
    "    def cry(self):\n",
    "        return \"汪汪\"\n",
    "\n",
    "class Cat(Pet):\n",
    "    def cry(self):\n",
    "        return \"喵喵\"\n",
    "\n",
    "class Trainer:\n",
    "    def __init__(self, name):\n",
    "        self.name = name\n",
    "        \n",
    "    def execute(self, pet):\n",
    "        print(f\"{self.name}让他的宠物{pet.name}发出叫的指令时,得到了“{pet.cry()}”地响应。\")\n",
    "\n",
    "# 测试多态\n",
    "trainer = Trainer(\"汤姆\")\n",
    "pets = [Dog('狗'), Cat('猫')]\n",
    "\n",
    "for pet in pets:\n",
    "    trainer.execute(pet)"
   ]
  }
 ],
 "metadata": {
  "kernelspec": {
   "display_name": "Python 3 (ipykernel)",
   "language": "python",
   "name": "python3"
  },
  "language_info": {
   "codemirror_mode": {
    "name": "ipython",
    "version": 3
   },
   "file_extension": ".py",
   "mimetype": "text/x-python",
   "name": "python",
   "nbconvert_exporter": "python",
   "pygments_lexer": "ipython3",
   "version": "3.11.4"
  }
 },
 "nbformat": 4,
 "nbformat_minor": 4
}
