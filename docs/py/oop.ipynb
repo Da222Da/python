{
 "cells": [
  {
   "cell_type": "markdown",
   "metadata": {},
   "source": [
    "# 面向对象编程\n",
    "\n",
    "面向对象编程`Object-Oriented Programming`，直译就是“以对象为中心进行编程”，是一种能让软件开发变得更加轻松的编程范式。要点如下：\n",
    "\n",
    "- 理解类与实例？"
   ]
  },
  {
   "cell_type": "code",
   "execution_count": 5,
   "metadata": {},
   "outputs": [
    {
     "name": "stdout",
     "output_type": "stream",
     "text": [
      "斑点狗:'汪汪'\n",
      "柴犬:'汪汪'\n"
     ]
    }
   ],
   "source": [
    "\"\"\"\n",
    "@Title: 理解类与实例\n",
    "\n",
    "Q1: 什么是类 （class）？\n",
    "A1: 我们将一群具有相同特征的事物抽象出来，统称为一个类。例如，斑点狗、柴犬……都是狗这个类，它们都有“狗”这个特征，即“毛皮、尾巴、叫声”等。\n",
    "\n",
    "Q2: 什么是实例 （instance）？\n",
    "A2: 实例就是类的一个具体事物。例如，斑点狗、柴犬……都是狗这个类，它们都是实例。\n",
    "\n",
    "Q3: 类和实例有什么区别？\n",
    "A3: 类是抽象的，实例是具体的。\n",
    "\"\"\"\n",
    "\n",
    "class Dog:\n",
    "    def __init__(self, name):  # 构造函数（创建实例时执行）\n",
    "        self.name = name\n",
    "\n",
    "    def cry(self):  # 被命令时发出“汪”的叫声\n",
    "        return \"汪汪\"\n",
    "\n",
    "pochi = Dog(\"斑点狗\")\n",
    "taro = Dog(\"柴犬\")\n",
    "\n",
    "print(f\"{pochi.name}:'{pochi.cry()}'\")\n",
    "print(f\"{taro.name}:'{taro.cry()}'\")"
   ]
  }
 ],
 "metadata": {
  "kernelspec": {
   "display_name": "Python 3 (ipykernel)",
   "language": "python",
   "name": "python3"
  },
  "language_info": {
   "codemirror_mode": {
    "name": "ipython",
    "version": 3
   },
   "file_extension": ".py",
   "mimetype": "text/x-python",
   "name": "python",
   "nbconvert_exporter": "python",
   "pygments_lexer": "ipython3",
   "version": "3.11.4"
  }
 },
 "nbformat": 4,
 "nbformat_minor": 4
}
