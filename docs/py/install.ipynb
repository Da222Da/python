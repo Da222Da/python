{
 "cells": [
  {
   "cell_type": "markdown",
   "metadata": {},
   "source": [
    "# 安装\n",
    "\n",
    "关于如何安装 Python?我们以 `windows 操作系统` 为例：\n",
    "\n",
    "首先，前往官网[https://www.python.org/](https://www.python.org/)，下载安装包。\n",
    "\n",
    "![download](./imgs/download.jpg)\n",
    "\n",
    "然后，点击下载好的 `.exe` 文件，无脑地下一步、下一步……就好了。\n",
    "\n",
    "不过，需要注意的是，记得勾选环境变量配置。\n",
    "\n",
    "![path](./imgs/path.jpg)\n",
    "\n",
    "最后，打开你的终端面板，输入`python --version`。如果返回了 python 的版本号，就说明装好了。\n",
    "\n",
    "![version](./imgs/version.png)"
   ]
  },
  {
   "cell_type": "code",
   "execution_count": null,
   "metadata": {},
   "outputs": [],
   "source": [
    "print(\"123\")"
   ]
  }
 ],
 "metadata": {
  "kernelspec": {
   "display_name": "Python 3 (ipykernel)",
   "language": "python",
   "name": "python3"
  },
  "language_info": {
   "codemirror_mode": {
    "name": "ipython",
    "version": 3
   },
   "file_extension": ".py",
   "mimetype": "text/x-python",
   "name": "python",
   "nbconvert_exporter": "python",
   "pygments_lexer": "ipython3",
   "version": "3.11.4"
  }
 },
 "nbformat": 4,
 "nbformat_minor": 4
}
