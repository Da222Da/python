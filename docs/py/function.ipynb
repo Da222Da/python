{
 "cells": [
  {
   "cell_type": "markdown",
   "metadata": {},
   "source": [
    "### 函数\n",
    "\n",
    "在 Python 中，函数是一段可以被重复执行的代码片段。要点如下：\n",
    "\n",
    "1. 定义函数\n",
    "2. 调用函数\n",
    "3. 函数传参\n",
    "4. 函数返回值\n",
    "5. 变量作用域"
   ]
  },
  {
   "cell_type": "code",
   "execution_count": null,
   "metadata": {},
   "outputs": [],
   "source": [
    "\"\"\"\n",
    "@Title: 定义函数\n",
    "\n",
    "Q1: 如何定义函数？\n",
    "A1: 我们可以使用关键字 def 来定义函数。\n",
    "\"\"\"\n",
    "\n",
    "# 如果我们定义了一个函数 greet，但是从来不调用它，greet 里面的代码  print(\"hello world\") 就永远也不会运行。\n",
    "def greet():\n",
    "    print(\"hello world\")"
   ]
  },
  {
   "cell_type": "code",
   "execution_count": null,
   "metadata": {},
   "outputs": [],
   "source": [
    "\"\"\"\n",
    "@Title: 调用函数\n",
    "\n",
    "Q1: 如何调用函数？\n",
    "A1: 在Python中，我们可以通过函数名后加括号的方式来调用函数。\n",
    "\"\"\"\n",
    "\n",
    "def greet():\n",
    "    print(\"hello world\")\n",
    "\n",
    "greet() # 调用函数，是指运行 greet 函数里的代码\n"
   ]
  },
  {
   "cell_type": "code",
   "execution_count": null,
   "metadata": {},
   "outputs": [],
   "source": [
    "\"\"\"\n",
    "@Title: 函数传参\n",
    "\n",
    "Q1: 如何向函数中传递数据？\n",
    "A1: 我们通过定义形参(parameter) 和实参(arguments)来实现函数中传递数据。\n",
    "\"\"\"\n",
    "\n",
    "def greet(name, greeting): # 形参: name, greeting\n",
    "    print(f\"{greeting},{name}!\")\n",
    "\n",
    "greet(\"汤姆\", \"Hello\") # 实参：\"汤姆\", \"Hello\""
   ]
  },
  {
   "cell_type": "code",
   "execution_count": 7,
   "metadata": {},
   "outputs": [
    {
     "name": "stdout",
     "output_type": "stream",
     "text": [
      "2\n"
     ]
    }
   ],
   "source": [
    "\"\"\"\n",
    "@Title: 函数返回值\n",
    "\n",
    "Q1: 如何给函数的调用者返回信息?\n",
    "A1: 我们可以使用 return 语句来返回一个值。 \n",
    "\"\"\"\n",
    "\n",
    "def sum(a, b):\n",
    "    return a + b # return 语句用于指定函数执行完毕后要返回的值。\n",
    "\n",
    "result = sum(1, 1)\n",
    "print(result)"
   ]
  },
  {
   "cell_type": "code",
   "execution_count": 6,
   "metadata": {},
   "outputs": [
    {
     "name": "stdout",
     "output_type": "stream",
     "text": [
      "2\n",
      "3\n"
     ]
    }
   ],
   "source": [
    "\"\"\"\n",
    "@Title: 变量作用域\n",
    "\n",
    "Q1: 变量作用域是什么?\n",
    "A1: 在Python中，变量作用域指的是变量在程序中可访问的范围。所以，变量可以分两种：1.局部变量、2.全局变量。 \n",
    "Q2: 什么是局部变量？\n",
    "A2: 局部变量就是定义在函数内部的变量，只能在函数内部使用。在函数被调用时创建，并在函数执行完毕后被销毁。\n",
    "Q3: 什么是全局变量？\n",
    "A3: 全局变量是在函数外部定义的变量，可以在整个程序范围内访问。在程序开始执行时创建，并在程序结束后销毁。\n",
    "Q4: 如何在函数内部使用全局变量呢？\n",
    "A4: 需要你在函数内部用关键字 global 申明你要使用的全局变量。\n",
    "\"\"\"\n",
    "\n",
    "global_a = 1 # 全局变量\n",
    "def sum():\n",
    "    global global_a # 声明要使用的全局变量 global_a\n",
    "    global_a = 2 # 修改全局变量 global_a 的值\n",
    "    b = 1 # 局部变量 b\n",
    "    return global_a + b\n",
    "result = sum()\n",
    "print(global_a) # 2\n",
    "# print(b)  # 在函数外部无法访问局部变量，会引发NameError\n",
    "print(result) # 3"
   ]
  },
  {
   "cell_type": "code",
   "execution_count": null,
   "metadata": {},
   "outputs": [],
   "source": []
  }
 ],
 "metadata": {
  "kernelspec": {
   "display_name": "Python 3 (ipykernel)",
   "language": "python",
   "name": "python3"
  },
  "language_info": {
   "codemirror_mode": {
    "name": "ipython",
    "version": 3
   },
   "file_extension": ".py",
   "mimetype": "text/x-python",
   "name": "python",
   "nbconvert_exporter": "python",
   "pygments_lexer": "ipython3",
   "version": "3.11.4"
  }
 },
 "nbformat": 4,
 "nbformat_minor": 4
}
