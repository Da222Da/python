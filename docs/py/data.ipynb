{
 "cells": [
  {
   "cell_type": "markdown",
   "metadata": {},
   "source": [
    "# 数据\n",
    "\n",
    "在计算机中，数据就是计算机能够理解的信息，例如数字、文字、图像、声音等。要点如下：\n",
    "\n",
    "- 字符串类型 String"
   ]
  },
  {
   "cell_type": "code",
   "execution_count": 1,
   "metadata": {},
   "outputs": [
    {
     "name": "stdout",
     "output_type": "stream",
     "text": [
      "张三\n",
      "李四\n",
      "张三和李四\n"
     ]
    }
   ],
   "source": [
    "\"\"\"\n",
    "@Title: 字符串 String\n",
    "\n",
    "Q1: 在 python 中，如何申明一个字符串类型数据？\n",
    "A1: 在 Python 中，可以使用单引号或双引号来声明一个字符串类型的数据。\n",
    "\n",
    "Q2: 在 Python 中，如何在字符串中嵌入变量？\n",
    "A2: 使用 f-string（格式化字符串f\"\" + 占位符{}）\n",
    "\n",
    "\"\"\"\n",
    "\n",
    "# 声明字符串\n",
    "str1 = '张三'\n",
    "str2 = \"李四\"\n",
    "print(str1)\n",
    "print(str2)\n",
    "\n",
    "# 嵌入变量\n",
    "str3 = f\"{str1}和{str2}\"\n",
    "print(str3)\n"
   ]
  },
  {
   "cell_type": "code",
   "execution_count": null,
   "metadata": {},
   "outputs": [],
   "source": []
  }
 ],
 "metadata": {
  "kernelspec": {
   "display_name": "Python 3 (ipykernel)",
   "language": "python",
   "name": "python3"
  },
  "language_info": {
   "codemirror_mode": {
    "name": "ipython",
    "version": 3
   },
   "file_extension": ".py",
   "mimetype": "text/x-python",
   "name": "python",
   "nbconvert_exporter": "python",
   "pygments_lexer": "ipython3",
   "version": "3.11.4"
  }
 },
 "nbformat": 4,
 "nbformat_minor": 4
}
