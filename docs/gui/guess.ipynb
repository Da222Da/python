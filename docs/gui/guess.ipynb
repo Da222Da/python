{
 "cells": [
  {
   "cell_type": "code",
   "execution_count": 6,
   "metadata": {},
   "outputs": [
    {
     "name": "stdout",
     "output_type": "stream",
     "text": [
      "34\n"
     ]
    }
   ],
   "source": [
    "# 猜数游戏\n",
    "\n",
    "import random, easygui\n",
    "\n",
    "secret = random.randint(1, 99)\n",
    "guess = 0\n",
    "tries = 0\n",
    "\n",
    "easygui.buttonbox('猜数游戏规则：猜一个 1 ~ 99 之间的任意整数（一共 6 次机会）', choices = ['开始游戏'])\n",
    "\n",
    "while guess != secret and tries < 6:\n",
    "    guess = easygui.integerbox('请输入你猜的那个数')\n",
    "    if not guess: break;\n",
    "    if guess > secret:\n",
    "        easygui.msgbox('大了，再来！')\n",
    "    elif guess < secret:\n",
    "        easygui.msgbox('小了，再来！')\n",
    "    tries += 1\n",
    "if guess == secret:\n",
    "    easygui.msgbox('恭喜你，猜中了!最终答案是：' + str(secret))\n",
    "else:\n",
    "    easygui.msgbox('很遗憾，你输了!最终答案是：' + str(secret))"
   ]
  },
  {
   "cell_type": "code",
   "execution_count": null,
   "metadata": {},
   "outputs": [],
   "source": []
  }
 ],
 "metadata": {
  "kernelspec": {
   "display_name": "Python 3 (ipykernel)",
   "language": "python",
   "name": "python3"
  },
  "language_info": {
   "codemirror_mode": {
    "name": "ipython",
    "version": 3
   },
   "file_extension": ".py",
   "mimetype": "text/x-python",
   "name": "python",
   "nbconvert_exporter": "python",
   "pygments_lexer": "ipython3",
   "version": "3.11.4"
  }
 },
 "nbformat": 4,
 "nbformat_minor": 4
}
