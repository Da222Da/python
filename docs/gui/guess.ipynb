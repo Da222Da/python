{
 "cells": [
  {
   "cell_type": "code",
   "execution_count": 9,
   "metadata": {},
   "outputs": [
    {
     "ename": "TypeError",
     "evalue": "'>' not supported between instances of 'NoneType' and 'int'",
     "output_type": "error",
     "traceback": [
      "\u001b[1;31m---------------------------------------------------------------------------\u001b[0m",
      "\u001b[1;31mTypeError\u001b[0m                                 Traceback (most recent call last)",
      "Cell \u001b[1;32mIn[9], line 13\u001b[0m\n\u001b[0;32m     11\u001b[0m \u001b[38;5;28;01mwhile\u001b[39;00m guess \u001b[38;5;241m!=\u001b[39m secret \u001b[38;5;129;01mand\u001b[39;00m tries \u001b[38;5;241m<\u001b[39m \u001b[38;5;241m6\u001b[39m:\n\u001b[0;32m     12\u001b[0m     guess \u001b[38;5;241m=\u001b[39m easygui\u001b[38;5;241m.\u001b[39mintegerbox(\u001b[38;5;124m'\u001b[39m\u001b[38;5;124m请输入你猜的那个数\u001b[39m\u001b[38;5;124m'\u001b[39m)\n\u001b[1;32m---> 13\u001b[0m     \u001b[38;5;28;01mif\u001b[39;00m \u001b[43mguess\u001b[49m\u001b[43m \u001b[49m\u001b[38;5;241;43m>\u001b[39;49m\u001b[43m \u001b[49m\u001b[43msecret\u001b[49m:\n\u001b[0;32m     14\u001b[0m         easygui\u001b[38;5;241m.\u001b[39mmsgbox(\u001b[38;5;124m'\u001b[39m\u001b[38;5;124m大了，再来！\u001b[39m\u001b[38;5;124m'\u001b[39m)\n\u001b[0;32m     15\u001b[0m     \u001b[38;5;28;01melif\u001b[39;00m guess \u001b[38;5;241m<\u001b[39m secret:\n",
      "\u001b[1;31mTypeError\u001b[0m: '>' not supported between instances of 'NoneType' and 'int'"
     ]
    }
   ],
   "source": [
    "# 猜数游戏\n",
    "\n",
    "import random, easygui\n",
    "\n",
    "secret = random.randint(1, 99)\n",
    "guess = 0\n",
    "tries = 0\n",
    "\n",
    "easygui.buttonbox('猜数游戏规则：猜一个 1 ~ 99 之间的任意整数（一共 6 次机会）', choices = ['开始游戏'])\n",
    "\n",
    "while guess != secret and tries < 6:\n",
    "    guess = easygui.integerbox('请输入你猜的那个数')\n",
    "    if not guess: break;\n",
    "    if guess > secret:\n",
    "        easygui.msgbox('大了，再来！')\n",
    "    elif guess < secret:\n",
    "        easygui.msgbox('小了，再来！')\n",
    "    tries += 1\n",
    "if guess == secret:\n",
    "    easygui.msgbox('恭喜你，猜中了')\n",
    "else:\n",
    "     easygui.msgbox('很遗憾，你输了')"
   ]
  },
  {
   "cell_type": "code",
   "execution_count": null,
   "metadata": {},
   "outputs": [],
   "source": []
  },
  {
   "cell_type": "code",
   "execution_count": null,
   "metadata": {},
   "outputs": [],
   "source": []
  }
 ],
 "metadata": {
  "kernelspec": {
   "display_name": "Python 3 (ipykernel)",
   "language": "python",
   "name": "python3"
  },
  "language_info": {
   "codemirror_mode": {
    "name": "ipython",
    "version": 3
   },
   "file_extension": ".py",
   "mimetype": "text/x-python",
   "name": "python",
   "nbconvert_exporter": "python",
   "pygments_lexer": "ipython3",
   "version": "3.11.4"
  }
 },
 "nbformat": 4,
 "nbformat_minor": 4
}
