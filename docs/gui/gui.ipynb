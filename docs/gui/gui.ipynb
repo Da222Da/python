{
 "cells": [
  {
   "cell_type": "markdown",
   "metadata": {},
   "source": [
    "# Graphical User Interface 图形用户界面\n",
    "\n",
    "> 在 python 中，我们会借助 `easygui && pip install easygui` 模块，帮助我们创建 GUI 程序。\n",
    "\n",
    "GUI 是 Graphical User Interface（图形用户界面）的缩写。在 GUI 中，并不只是键入文本和返回文本，用户可以看到窗口、按钮、文本框等图形，而且可以用鼠标点击，还可以通过键盘键入。\n",
    "\n",
    "GUI 是与程序交互的一种不同的方式。有GUI 的程序仍然有 3 个基本要素：输入、处理和输出，但它们的输入和输出更丰富、更有趣一些。"
   ]
  },
  {
   "cell_type": "code",
   "execution_count": null,
   "metadata": {},
   "outputs": [],
   "source": [
    "import easygui"
   ]
  },
  {
   "cell_type": "code",
   "execution_count": 13,
   "metadata": {},
   "outputs": [
    {
     "name": "stdout",
     "output_type": "stream",
     "text": [
      "OK\n"
     ]
    }
   ],
   "source": [
    "# 消息框组件 msgbox\n",
    "user_response = easygui.msgbox(\"Hello EasyGui!\")\n",
    "print(user_response)"
   ]
  },
  {
   "cell_type": "code",
   "execution_count": 15,
   "metadata": {},
   "outputs": [
    {
     "name": "stdout",
     "output_type": "stream",
     "text": [
      "草莓\n"
     ]
    }
   ],
   "source": [
    "# 多按钮消息框组件 buttonbox\n",
    "user_response = easygui.buttonbox('你想要什么口味的冰淇淋呢？', choices = ['草莓', '芒果', '巧克力'])\n",
    "print(user_response)"
   ]
  },
  {
   "cell_type": "code",
   "execution_count": 19,
   "metadata": {},
   "outputs": [
    {
     "name": "stdout",
     "output_type": "stream",
     "text": [
      "巧克力\n"
     ]
    }
   ],
   "source": [
    "# 选择框组件 choicebox\n",
    "user_response = easygui.choicebox('你想要什么口味的冰淇淋呢？', choices = ['草莓', '芒果', '巧克力'])\n",
    "print(user_response)"
   ]
  },
  {
   "cell_type": "code",
   "execution_count": 22,
   "metadata": {},
   "outputs": [
    {
     "name": "stdout",
     "output_type": "stream",
     "text": [
      "芒果\n"
     ]
    }
   ],
   "source": [
    "# 文本输入框组件\n",
    "user_response = easygui.enterbox('你想要什么口味的冰淇淋呢？', default = '芒果')\n",
    "print(user_response)"
   ]
  },
  {
   "cell_type": "code",
   "execution_count": 24,
   "metadata": {},
   "outputs": [
    {
     "name": "stdout",
     "output_type": "stream",
     "text": [
      "1\n"
     ]
    }
   ],
   "source": [
    "# 整数输入框组件\n",
    "user_response = easygui.integerbox('请输入一个整数？')\n",
    "print(user_response)"
   ]
  },
  {
   "cell_type": "code",
   "execution_count": null,
   "metadata": {},
   "outputs": [],
   "source": []
  }
 ],
 "metadata": {
  "kernelspec": {
   "display_name": "Python 3 (ipykernel)",
   "language": "python",
   "name": "python3"
  },
  "language_info": {
   "codemirror_mode": {
    "name": "ipython",
    "version": 3
   },
   "file_extension": ".py",
   "mimetype": "text/x-python",
   "name": "python",
   "nbconvert_exporter": "python",
   "pygments_lexer": "ipython3",
   "version": "3.11.4"
  }
 },
 "nbformat": 4,
 "nbformat_minor": 4
}
