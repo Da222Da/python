{
 "cells": [
  {
   "cell_type": "markdown",
   "metadata": {},
   "source": [
    "# python\n",
    "\n",
    "## 什么是 Python?\n",
    "\n",
    "Python 是一种高级编程语言。其最大的优势就是简单易懂、应用广泛。\n",
    "\n",
    "如果你想了解更多信息的话，请移步 [官网](https://www.python.org/)。\n",
    "\n",
    "## 关键点\n",
    "\n",
    "- Python 编程语言\n",
    "  - 安装与使用\n",
    "    - [如何安装 python?](./docs/py/install.ipynb)\n",
    "    - [如何管理 python 依赖?](./docs/py/depend.ipynb)\n",
    "    - [如何管理 python 环境?](./docs/py/env.ipynb)\n",
    "  - 语法约定\n",
    "    - [数据](./docs/py/data.ipynb)\n",
    "    - 变量\n",
    "    - 运算\n",
    "    - 判断\n",
    "    - 循环\n",
    "    - [函数](./docs/py/function.ipynb)\n",
    "    - 对象\n",
    "    - 模块\n",
    "  - 内置模块\n",
    " \n",
    "- GUI 程序开发\n",
    "    - [什么是 GUI](./docs/gui/gui.ipynb)\n",
    "    - [示例：猜数游戏](./docs/gui/guess.ipynb)\n",
    "\n",
    "- 游戏开发\n",
    "  - [什么是游戏？](./docs/game/game.ipynb)\n",
    "\n",
    "## 弯路：走不完、根本走不完\n",
    "\n",
    "1. 《父与子的编程之旅：与小卡特一起学Python》：熟悉 Python 语法"
   ]
  }
 ],
 "metadata": {
  "kernelspec": {
   "display_name": "Python 3 (ipykernel)",
   "language": "python",
   "name": "python3"
  },
  "language_info": {
   "codemirror_mode": {
    "name": "ipython",
    "version": 3
   },
   "file_extension": ".py",
   "mimetype": "text/x-python",
   "name": "python",
   "nbconvert_exporter": "python",
   "pygments_lexer": "ipython3",
   "version": "3.11.4"
  }
 },
 "nbformat": 4,
 "nbformat_minor": 4
}
