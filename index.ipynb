{
 "cells": [
  {
   "cell_type": "markdown",
   "metadata": {},
   "source": [
    "# 基于 Python 的人工智能\n",
    "\n",
    "## 什么是 Python?\n",
    "\n",
    "Python 是一种高级编程语言。其最大的优势就是简单易懂、应用广泛。\n",
    "\n",
    "如果你想了解更多信息的话，请移步 [官网](https://www.python.org/)。\n",
    "\n",
    "\n",
    "## 知识体系\n",
    "\n",
    "- Python 编程语言\n",
    "  - 快速上手：[安装 python](./docs/py/quickstart/install/index.ipynb)、[管理依赖](./docs/py/quickstart/depend/index.ipynb)、管理环境\n",
    "  - 语法约定：[数据类型](./docs/py/grammar/data.ipynb)、变量、运算符、条件判断、循环、[函数](./docs/py/grammar/function.ipynb)、对象、模块\n",
    "  - 数据结构与算法\n",
    "  - [面向对象编程](./docs/py/oop/index.ipynb)\n",
    "- 应用场景\n",
    "  - AI 人工智能\n",
    "  <!-- - 桌面应用开发 -->\n",
    "  <!-- - 数据可视化 -->\n",
    "  <!-- - 数据科学\n",
    "  - 机器学习\n",
    "  - 深度学习\n",
    "  - 网络爬虫\n",
    "  - 自动化测试\n",
    "  - 游戏开发\n",
    "  - 图形界面开发\n",
    "  - 科学计算\n",
    "  - 数据分析\n",
    "  - 自动化运维\n",
    "  - 自动化测试\n",
    "  - 自动化部署\n",
    "  - 自动化文档\n",
    "  - 自动化监控 -->\n"
   ]
  }
 ],
 "metadata": {
  "kernelspec": {
   "display_name": "Python 3 (ipykernel)",
   "language": "python",
   "name": "python3"
  },
  "language_info": {
   "codemirror_mode": {
    "name": "ipython",
    "version": 3
   },
   "file_extension": ".py",
   "mimetype": "text/x-python",
   "name": "python",
   "nbconvert_exporter": "python",
   "pygments_lexer": "ipython3",
   "version": "3.11.4"
  }
 },
 "nbformat": 4,
 "nbformat_minor": 4
}
